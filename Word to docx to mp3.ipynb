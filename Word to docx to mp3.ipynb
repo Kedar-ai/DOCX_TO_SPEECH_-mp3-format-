{
 "cells": [
  {
   "cell_type": "markdown",
   "id": "1ee64337-3f76-4e37-b481-39bc7d30be9e",
   "metadata": {},
   "source": [
    "## Install and Import necessary libraries"
   ]
  },
  {
   "cell_type": "code",
   "execution_count": 1,
   "id": "d888c332-fb37-4f82-a829-ad8869fd809b",
   "metadata": {},
   "outputs": [],
   "source": [
    "# Install Libraries\n",
    "# !pip install gtts\n",
    "# !pip install docx2txt\n",
    "# !pip install pyttsx3\n",
    "\n",
    "# Import Libraries\n",
    "from gtts import gTTS\n",
    "import docx2txt\n",
    "import pyttsx3"
   ]
  },
  {
   "cell_type": "markdown",
   "id": "e315a7b1-448e-4cdf-ba72-9484b88151b8",
   "metadata": {},
   "source": [
    "## Extract Text from .doc/.docx file"
   ]
  },
  {
   "cell_type": "code",
   "execution_count": 2,
   "id": "bee1a20f-7fcf-4ed4-a808-eaed49967623",
   "metadata": {},
   "outputs": [
    {
     "name": "stdout",
     "output_type": "stream",
     "text": [
      "Lorde (born 1996) is a New Zealand singer-songwriter known for employing unconventional musical styles and introspective songwriting. She signed with Universal Music Group (UMG) in 2009 and collaborated with producer Joel Little in 2011 to record material. The pair's first collaborative effort, an extended play titled The Love Club, was released by UMG in 2013, and its international chart-topping single \"Royals\" helped Lorde rise to prominence. Her debut studio album Pure Heroine followed that year and achieved critical and commercial success. The following year, she curated the soundtrack for the 2014 film The Hunger Games: Mockingjay, Part 1 and recorded several tracks, including the single \"Yellow Flicker Beat\".\n"
     ]
    }
   ],
   "source": [
    "my_text = docx2txt.process(\"/home/kedar/PycharmProjects/pythonProject/text_to_speech/song.docx\")\n",
    "print(my_text)"
   ]
  },
  {
   "cell_type": "markdown",
   "id": "b9c52ddd-09c6-43f3-ad11-b0848b54ccb9",
   "metadata": {},
   "source": [
    "## Convert file into .mp3 format"
   ]
  },
  {
   "cell_type": "code",
   "execution_count": 3,
   "id": "2b370881-a9ae-4020-ae20-fa8310bd32a6",
   "metadata": {},
   "outputs": [],
   "source": [
    "language = 'en'\n",
    "myobj = gTTS(text=my_text, lang=language, slow=False)\n",
    "myobj.save(\"song.mp3\")"
   ]
  },
  {
   "cell_type": "code",
   "execution_count": null,
   "id": "685c34f4-48ee-4136-a970-74f8a8160a76",
   "metadata": {},
   "outputs": [],
   "source": []
  }
 ],
 "metadata": {
  "kernelspec": {
   "display_name": "Python 3 (ipykernel)",
   "language": "python",
   "name": "python3"
  },
  "language_info": {
   "codemirror_mode": {
    "name": "ipython",
    "version": 3
   },
   "file_extension": ".py",
   "mimetype": "text/x-python",
   "name": "python",
   "nbconvert_exporter": "python",
   "pygments_lexer": "ipython3",
   "version": "3.9.7"
  }
 },
 "nbformat": 4,
 "nbformat_minor": 5
}
